{
 "cells": [
  {
   "cell_type": "code",
   "execution_count": 1,
   "metadata": {
    "colab": {
     "base_uri": "https://localhost:8080/"
    },
    "executionInfo": {
     "elapsed": 23921,
     "status": "ok",
     "timestamp": 1751239640330,
     "user": {
      "displayName": "YUTO TAKAGI",
      "userId": "01469428617600598110"
     },
     "user_tz": -540
    },
    "id": "-hksx-hFMRTK",
    "outputId": "b77aabe2-3a4f-4763-9472-037778c983b2"
   },
   "outputs": [
    {
     "name": "stdout",
     "output_type": "stream",
     "text": [
      "Mounted at /content/drive\n"
     ]
    }
   ],
   "source": [
    "from google.colab import drive\n",
    "drive.mount('/content/drive')"
   ]
  },
  {
   "cell_type": "markdown",
   "metadata": {
    "id": "aDdljsAJ46eO"
   },
   "source": [
    "XBRLファイルの文字コードを変換するためのプログラムnkfのインストール"
   ]
  },
  {
   "cell_type": "code",
   "execution_count": 2,
   "metadata": {
    "colab": {
     "base_uri": "https://localhost:8080/"
    },
    "executionInfo": {
     "elapsed": 6817,
     "status": "ok",
     "timestamp": 1751239653237,
     "user": {
      "displayName": "YUTO TAKAGI",
      "userId": "01469428617600598110"
     },
     "user_tz": -540
    },
    "id": "AjYxu39z1ioL",
    "outputId": "e7bad2bd-73ff-4125-b600-3d3a7e252f7a"
   },
   "outputs": [
    {
     "name": "stdout",
     "output_type": "stream",
     "text": [
      "Reading package lists... Done\n",
      "Building dependency tree... Done\n",
      "Reading state information... Done\n",
      "The following NEW packages will be installed:\n",
      "  nkf\n",
      "0 upgraded, 1 newly installed, 0 to remove and 35 not upgraded.\n",
      "Need to get 154 kB of archives.\n",
      "After this operation, 367 kB of additional disk space will be used.\n",
      "Get:1 http://archive.ubuntu.com/ubuntu jammy/universe amd64 nkf amd64 1:2.1.5-1build3 [154 kB]\n",
      "Fetched 154 kB in 1s (205 kB/s)\n",
      "Selecting previously unselected package nkf.\n",
      "(Reading database ... 126308 files and directories currently installed.)\n",
      "Preparing to unpack .../nkf_1%3a2.1.5-1build3_amd64.deb ...\n",
      "Unpacking nkf (1:2.1.5-1build3) ...\n",
      "Setting up nkf (1:2.1.5-1build3) ...\n",
      "Processing triggers for man-db (2.10.2-1) ...\n"
     ]
    }
   ],
   "source": [
    "!apt-get install nkf"
   ]
  },
  {
   "cell_type": "markdown",
   "metadata": {
    "id": "Yjk_N4Ia4yA1"
   },
   "source": [
    "XBRLファイルから表情報を抽出するためのプログラムのダウンロード"
   ]
  },
  {
   "cell_type": "code",
   "execution_count": 3,
   "metadata": {
    "colab": {
     "base_uri": "https://localhost:8080/"
    },
    "executionInfo": {
     "elapsed": 915,
     "status": "ok",
     "timestamp": 1751239834897,
     "user": {
      "displayName": "YUTO TAKAGI",
      "userId": "01469428617600598110"
     },
     "user_tz": -540
    },
    "id": "REVVM8kp06v6",
    "outputId": "b7ef328d-25df-4a0a-ca0f-338ef6b2ef93"
   },
   "outputs": [
    {
     "name": "stdout",
     "output_type": "stream",
     "text": [
      "--2025-06-29 23:30:33--  http://nlp.ds.chuo-u.ac.jp/teaching/data_science_exp_B/decode_tag.perl\n",
      "Resolving nlp.ds.chuo-u.ac.jp (nlp.ds.chuo-u.ac.jp)... 133.91.122.136\n",
      "Connecting to nlp.ds.chuo-u.ac.jp (nlp.ds.chuo-u.ac.jp)|133.91.122.136|:80... connected.\n",
      "HTTP request sent, awaiting response... 200 OK\n",
      "Length: 825\n",
      "Saving to: ‘decode_tag.perl’\n",
      "\n",
      "decode_tag.perl     100%[===================>]     825  --.-KB/s    in 0s      \n",
      "\n",
      "2025-06-29 23:30:34 (133 MB/s) - ‘decode_tag.perl’ saved [825/825]\n",
      "\n"
     ]
    }
   ],
   "source": [
    "!wget http://nlp.ds.chuo-u.ac.jp/teaching/data_science_exp_B/decode_tag.perl"
   ]
  },
  {
   "cell_type": "markdown",
   "metadata": {
    "id": "mRYkVEmi5D6n"
   },
   "source": [
    "openaiライブラリのインストール"
   ]
  },
  {
   "cell_type": "code",
   "execution_count": 4,
   "metadata": {
    "colab": {
     "base_uri": "https://localhost:8080/"
    },
    "executionInfo": {
     "elapsed": 5739,
     "status": "ok",
     "timestamp": 1751239849677,
     "user": {
      "displayName": "YUTO TAKAGI",
      "userId": "01469428617600598110"
     },
     "user_tz": -540
    },
    "id": "5PR_R8Xd3Txm",
    "outputId": "33403f79-5626-44f7-c7b3-811087faeaa6"
   },
   "outputs": [
    {
     "name": "stdout",
     "output_type": "stream",
     "text": [
      "Requirement already satisfied: openai in /usr/local/lib/python3.11/dist-packages (1.91.0)\n",
      "Requirement already satisfied: anyio<5,>=3.5.0 in /usr/local/lib/python3.11/dist-packages (from openai) (4.9.0)\n",
      "Requirement already satisfied: distro<2,>=1.7.0 in /usr/local/lib/python3.11/dist-packages (from openai) (1.9.0)\n",
      "Requirement already satisfied: httpx<1,>=0.23.0 in /usr/local/lib/python3.11/dist-packages (from openai) (0.28.1)\n",
      "Requirement already satisfied: jiter<1,>=0.4.0 in /usr/local/lib/python3.11/dist-packages (from openai) (0.10.0)\n",
      "Requirement already satisfied: pydantic<3,>=1.9.0 in /usr/local/lib/python3.11/dist-packages (from openai) (2.11.7)\n",
      "Requirement already satisfied: sniffio in /usr/local/lib/python3.11/dist-packages (from openai) (1.3.1)\n",
      "Requirement already satisfied: tqdm>4 in /usr/local/lib/python3.11/dist-packages (from openai) (4.67.1)\n",
      "Requirement already satisfied: typing-extensions<5,>=4.11 in /usr/local/lib/python3.11/dist-packages (from openai) (4.14.0)\n",
      "Requirement already satisfied: idna>=2.8 in /usr/local/lib/python3.11/dist-packages (from anyio<5,>=3.5.0->openai) (3.10)\n",
      "Requirement already satisfied: certifi in /usr/local/lib/python3.11/dist-packages (from httpx<1,>=0.23.0->openai) (2025.6.15)\n",
      "Requirement already satisfied: httpcore==1.* in /usr/local/lib/python3.11/dist-packages (from httpx<1,>=0.23.0->openai) (1.0.9)\n",
      "Requirement already satisfied: h11>=0.16 in /usr/local/lib/python3.11/dist-packages (from httpcore==1.*->httpx<1,>=0.23.0->openai) (0.16.0)\n",
      "Requirement already satisfied: annotated-types>=0.6.0 in /usr/local/lib/python3.11/dist-packages (from pydantic<3,>=1.9.0->openai) (0.7.0)\n",
      "Requirement already satisfied: pydantic-core==2.33.2 in /usr/local/lib/python3.11/dist-packages (from pydantic<3,>=1.9.0->openai) (2.33.2)\n",
      "Requirement already satisfied: typing-inspection>=0.4.0 in /usr/local/lib/python3.11/dist-packages (from pydantic<3,>=1.9.0->openai) (0.4.1)\n"
     ]
    }
   ],
   "source": [
    "!pip install openai"
   ]
  },
  {
   "cell_type": "markdown",
   "metadata": {
    "id": "5k7T5p3E8ZnY"
   },
   "source": [
    "(手順1) 以下のサイトから、まだ誰も選択していない企業を選び、学籍番号と氏名を記入\n",
    "\n",
    "https://docs.google.com/spreadsheets/d/1mBsP62wRTvwyzcLkylfRkMokTQeOYxHX/edit?usp=sharing&ouid=110881085622621163024&rtpof=true&sd=true\n",
    "\n",
    "\n",
    "※ 最低でも過去6年間の有価証券報告書を分析するため、創業が新しい企業は選ばないこと。\n",
    "\n",
    "(手順2)　EDINETのサイトから、手順1で選んだ企業の有価証券報告書(XBRL)を6年分(できればそれ以上)ダウンロードすること。検索結果には有価証券報告書と一緒に四半期報告書も表示されるが、有価証券報告書の方だけをダウンロードすること。\n",
    "\n",
    "https://disclosure2.edinet-fsa.go.jp/WEEK0010.aspx\n",
    "\n",
    "※ 「提出期間」を「全期間」に変更してから検索すること。\n",
    "\n",
    "※ XBRLファイルは、Windows上ではアプリと対応付けられていないため、ダブルクリックしても中身を閲覧できない。どうしても中身を見たければ、メモ帳等で開くこと。ただし、人間が読むことを想定していないため、ほとんど理解不能。有価証券報告書の本文を確認したい場合には、XBRLではなくpdfファイルをダウンロードすること。\n",
    "\n",
    "(手順3) ダウンロードしたXBRLはzip形式で圧縮されている。これを展開し、フォルダを下階層にたどっていくと、PublicDocというフォルダがある。その中にxbrlで終わるファイルが存在するので、それをGoogle Colaboratoryにアップロードする。\n",
    "\n",
    "(手順4) 以下の!perlから始まる行で、入力するファイル名を、手順3でアップロードしたファイル名に置き換える。"
   ]
  },
  {
   "cell_type": "markdown",
   "metadata": {
    "id": "rGrfcR3y5I56"
   },
   "source": [
    "xbrlファイルからの表情報の抽出。結果はtable_2023.txtに保存される。"
   ]
  },
  {
   "cell_type": "markdown",
   "metadata": {
    "id": "Pddp5tttUWSw"
   },
   "source": [
    "**xbrlファイルからの表情報の抽出**\n",
    "\n",
    "「jpcrp030000-asr-001_E01737-000_2023-03-31_01_2023-06-21.xbrl」は、アップロードしたXBRLファイルの名前に変更すること。\n",
    "\n",
    "以下は2023年度のデータを分析する場合の例である。実行結果はtable_2023.txtに保存される。それ以外の年のデータを分析する場合には、以下の3箇所を変更すること。\n",
    "\n",
    "!perl decode_tag.perl ... > table_2023.txt # 「table_2023.txt」を、「table_2022.txt」や「table_2021.txt」等に変更。\n",
    "\n",
    "f=open('table_2023.txt','r')　# 上と同様\n",
    "\n",
    "output_file='2023.txt' # 「2023.txt」を「2022.txt」や「2021.txt」等に変更\n",
    "\n",
    "\n",
    "**ChatGPTによる表の生成**\n",
    "\n",
    "元のxbrlファイルでは複数の表に分かれて記述されていた情報(セグメントの名称、開発費、売上高、セグメント利益、負債)をひとつの表にまとめる。\n"
   ]
  },
  {
   "cell_type": "code",
   "execution_count": 6,
   "metadata": {
    "colab": {
     "base_uri": "https://localhost:8080/"
    },
    "executionInfo": {
     "elapsed": 105,
     "status": "ok",
     "timestamp": 1751240015709,
     "user": {
      "displayName": "YUTO TAKAGI",
      "userId": "01469428617600598110"
     },
     "user_tz": -540
    },
    "id": "f4e2HE4pj0gz",
    "outputId": "a37ea1a4-5184-4126-ed95-e00f1f966523"
   },
   "outputs": [
    {
     "name": "stdout",
     "output_type": "stream",
     "text": [
      "jpcrp030000-asr-001_E02152-000_2015-03-31_01_2015-06-24.xbrl\n",
      "jpcrp030000-asr-001_E02152-000_2016-03-31_01_2016-06-29.xbrl\n",
      "jpcrp030000-asr-001_E02152-000_2017-03-31_01_2017-06-26.xbrl\n",
      "jpcrp030000-asr-001_E02152-000_2018-03-31_01_2018-06-25.xbrl\n",
      "jpcrp030000-asr-001_E02152-000_2019-03-31_01_2019-06-24.xbrl\n",
      "jpcrp030000-asr-001_E02152-000_2020-03-31_01_2020-06-24.xbrl\n",
      "jpcrp030000-asr-001_E02152-000_2021-03-31_01_2021-06-24.xbrl\n",
      "jpcrp030000-asr-001_E02152-000_2022-03-31_01_2022-06-23.xbrl\n",
      "jpcrp030000-asr-001_E02152-000_2023-03-31_01_2023-06-22.xbrl\n",
      "jpcrp030000-asr-001_E02152-000_2024-03-31_01_2024-06-20.xbrl\n",
      "jpcrp030000-asr-001_E02152-000_2025-03-31_01_2025-06-23.xbrl\n"
     ]
    }
   ],
   "source": [
    "!cd xbrl_file; ls"
   ]
  },
  {
   "cell_type": "code",
   "execution_count": 7,
   "metadata": {
    "executionInfo": {
     "elapsed": 4984,
     "status": "ok",
     "timestamp": 1751240042942,
     "user": {
      "displayName": "YUTO TAKAGI",
      "userId": "01469428617600598110"
     },
     "user_tz": -540
    },
    "id": "vy2Spw2yUnzr"
   },
   "outputs": [],
   "source": [
    "import os\n",
    "\n",
    "list = [\"jpcrp030000-asr-001_E02152-000_2015-03-31_01_2015-06-24.xbrl\",\n",
    "        \"jpcrp030000-asr-001_E02152-000_2016-03-31_01_2016-06-29.xbrl\",\n",
    "        \"jpcrp030000-asr-001_E02152-000_2017-03-31_01_2017-06-26.xbrl\",\n",
    "        \"jpcrp030000-asr-001_E02152-000_2018-03-31_01_2018-06-25.xbrl\",\n",
    "        \"jpcrp030000-asr-001_E02152-000_2019-03-31_01_2019-06-24.xbrl\",\n",
    "        \"jpcrp030000-asr-001_E02152-000_2020-03-31_01_2020-06-24.xbrl\",\n",
    "        \"jpcrp030000-asr-001_E02152-000_2021-03-31_01_2021-06-24.xbrl\",\n",
    "        \"jpcrp030000-asr-001_E02152-000_2022-03-31_01_2022-06-23.xbrl\",\n",
    "        \"jpcrp030000-asr-001_E02152-000_2023-03-31_01_2023-06-22.xbrl\",\n",
    "        \"jpcrp030000-asr-001_E02152-000_2024-03-31_01_2024-06-20.xbrl\",\n",
    "        \"jpcrp030000-asr-001_E02152-000_2025-03-31_01_2025-06-23.xbrl\"]\n",
    "\n",
    "if not os.path.exists(\"/content/txt\"):\n",
    "  os.makedirs(\"/content/txt\")\n",
    "\n",
    "\n",
    "for index,file_name in enumerate(list):\n",
    "  year = 2015 + index\n",
    "  output_file =f\"/content/txt/table_{year}.txt\"\n",
    "\n",
    "  !perl decode_tag.perl /content/xbrl_file/{file_name} > {output_file}\n"
   ]
  },
  {
   "cell_type": "code",
   "execution_count": null,
   "metadata": {
    "id": "8oSYO3m7Wut9"
   },
   "outputs": [],
   "source": [
    "\"\"\"# xbrlファイルからの表情報の抽出\n",
    "!perl decode_tag.perl /content/jpcrp030000-asr-001_E02152-000_2025-03-31_01_2025-06-23.xbrl> table_2025.txt\n",
    "\"\"\""
   ]
  },
  {
   "cell_type": "code",
   "execution_count": null,
   "metadata": {
    "id": "uoR7CqWqeIET"
   },
   "outputs": [],
   "source": [
    "\"\"\"prompt_table=''\n",
    "f=open(f'/content/table_2025.txt','r')\n",
    "for s in f:\n",
    "  prompt_table+=s\n",
    "output_file=f'/content/{2025}.txt'\n",
    "\n",
    "# ChatGPTによる表の生成\n",
    "client = OpenAI(\n",
    "    api_key = \"\"\n",
    ")\n",
    "\n",
    "response = client.chat.completions.create(\n",
    "    model=\"gpt-4o\",\n",
    "#    temperature=0.01,\n",
    "    messages=[\n",
    "        {\"role\": \"system\", \"content\": \"あなたは金融のエキスパートです。\"},\n",
    "        {\"role\": \"user\", \"content\": '''\n",
    "以下の文章から、セグメントの名称、開発費、売上高、セグメント利益、負債を抽出し、tsv形式のひとつの表にまとめよ。ただし、文章に記載されていない情報は-にしておくこと。tsv以外のデータは出力しないこと。\n",
    "'''+prompt_table},\n",
    "    ],\n",
    ")\n",
    "g=open(output_file,'w')\n",
    "g.write(response.choices[0].message.content)\n",
    "g.close()\"\"\""
   ]
  },
  {
   "cell_type": "code",
   "execution_count": null,
   "metadata": {
    "executionInfo": {
     "elapsed": 17936,
     "status": "ok",
     "timestamp": 1751240081391,
     "user": {
      "displayName": "YUTO TAKAGI",
      "userId": "01469428617600598110"
     },
     "user_tz": -540
    },
    "id": "oR4GqqSZ1JBu"
   },
   "outputs": [],
   "source": [
    "\n",
    "from openai import OpenAI\n",
    "\n",
    "if not os.path.exists(\"/content/output\"):\n",
    "  os.makedirs(\"/content/output\")\n",
    "\n",
    "for i in range(len(list)):\n",
    "  prompt_table=''\n",
    "  f=open(f'/content/txt/table_{i + 2015}.txt','r')\n",
    "  for s in f:\n",
    "    prompt_table+=s\n",
    "  output_file=f'output/{i + 2015}.txt'\n",
    "\n",
    "  # ChatGPTによる表の生成\n",
    "  client = OpenAI(\n",
    "      api_key = \"\"\n",
    "  )\n",
    "\n",
    "  response = client.chat.completions.create(\n",
    "      model=\"gpt-4o\",\n",
    "  #    temperature=0.01,\n",
    "      messages=[\n",
    "          {\"role\": \"system\", \"content\": \"あなたは金融のエキスパートです。\"},\n",
    "          {\"role\": \"user\", \"content\": '''\n",
    "  以下の文章から、セグメントの名称、開発費、売上高、セグメント利益、負債を抽出し、tsv形式のひとつの表にまとめよ。ただし、文章に記載されていない情報は-にしておくこと。tsv以外のデータは出力しないこと。\n",
    "  '''+prompt_table},\n",
    "      ],\n",
    "  )\n",
    "  g=open(output_file,'w')\n",
    "  g.write(response.choices[0].message.content)\n",
    "  g.close()"
   ]
  },
  {
   "cell_type": "markdown",
   "metadata": {
    "id": "gDl4Lb1BFoQy"
   },
   "source": [
    "上記のセルを実行して5年分のデータ(2019.txt〜2023.txt)を生成した後、それらをChatGPTで分析する。\n",
    "\n",
    "結果はgpt_analysis_result.txtに保存される。"
   ]
  },
  {
   "cell_type": "code",
   "execution_count": 9,
   "metadata": {
    "colab": {
     "base_uri": "https://localhost:8080/"
    },
    "executionInfo": {
     "elapsed": 8644,
     "status": "ok",
     "timestamp": 1751240137487,
     "user": {
      "displayName": "YUTO TAKAGI",
      "userId": "01469428617600598110"
     },
     "user_tz": -540
    },
    "id": "dAeJ97abEers",
    "outputId": "6eccd267-7403-413f-cf4d-60bf05ad4056"
   },
   "outputs": [
    {
     "name": "stdout",
     "output_type": "stream",
     "text": [
      "[2015年]\n",
      "```\n",
      "セグメントの名称\t開発費\t売上高\tセグメント利益\t負債\n",
      "自動車\t98,470\t2,698,974\t400,874\t-\n",
      "航空宇宙\t4,172\t142,801\t18,912\t-\n",
      "産業機器\t859\t29,029\t779\t-\n",
      "その他\t7,154\t7,109\t1,884\t-\n",
      "```[2016年]\n",
      "```\n",
      "セグメントの名称\t開発費\t売上高\tセグメント利益\t負債\n",
      "自動車\t128,254\t3,044,176\t543,609\t-\n",
      "航空宇宙\t6,166\t152,786\t18,201\t-\n",
      "産業機器\t591\t32,755\t82\t-\n",
      "その他\t648\t7,478\t2,894\t-\n",
      "```[2017年]\n",
      "```\n",
      "セグメントの名称\t開発費\t売上高\tセグメント利益\t負債\n",
      "自動車\t143,227\t3,151,961\t397,657\t-\n",
      "航空宇宙\t13,891\t138,759\t9,102\t-\n",
      "その他\t1,379\t35,272\t3,512\t-\n",
      "```[2018年]\n",
      "```\n",
      "セグメントの名称\t開発費\t売上高\tセグメント利益\t負債\n",
      "自動車\t133,388\t3,234,866\t361,454\t-\n",
      "航空宇宙\t7,640\t142,163\t12,259\t-\n",
      "その他\t325\t28,192\t5,066\t-\n",
      "```[2019年]\n",
      "```\n",
      "セグメントの名称\t開発費\t売上高\tセグメント利益\t負債\n",
      "自動車\t106,366\t3,014,476\t184,947\t-\n",
      "航空宇宙\t5,525\t131,669\t6,047\t-\n",
      "その他\t1,588\t14,369\t3,846\t-\n",
      "```[2020年]\n",
      "```\n",
      "セグメントの名称\t開発費\t売上高\tセグメント利益\t負債\n",
      "自動車\t119,307\t3,193,949\t200,263\t-\n",
      "航空宇宙\t4,293\t142,141\t5,065\t-\n",
      "その他\t2,402\t8,019\t3,577\t-\n",
      "```[2021年]\n",
      "```\n",
      "セグメントの名称\t開発費\t売上高\tセグメント利益\t負債\n",
      "自動車\t80,231\t2,737,503\t109,067\t-\n",
      "航空宇宙\t5,438\t87,693\t△9,811\t-\n",
      "その他\t524\t5,014\t3,070\t-\n",
      "```[2022年]\n",
      "```\n",
      "セグメントの名称\t開発費\t売上高\tセグメント利益\t負債\n",
      "自動車\t-\t2,677,465\t92,541\t-\n",
      "航空宇宙\t-\t62,291\t-7,005\t-\n",
      "その他\t-\t4,764\t4,782\t-\n",
      "```[2023年]\n",
      "```\n",
      "セグメントの名称\t開発費\t売上高\tセグメント利益\t負債\n",
      "自動車\t118,539\t3,690,551\t263,261\t-\n",
      "航空宇宙\t3,636\t79,019\t△2,082\t-\n",
      "その他\t665\t4,898\t6,261\t-\n",
      "```[2024年]\n",
      "```\n",
      "セグメントの名称\t開発費\t売上高\tセグメント利益\t負債\n",
      "自動車\t159,452\t4,593,639\t461,524\t-\n",
      "航空宇宙\t6,087\t104,317\t2,667\t-\n",
      "その他\t1,956\t4,991\t3,633\t-\n",
      "```\n"
     ]
    }
   ],
   "source": [
    "prompt_gpt=''\n",
    "\n",
    "for year in range(2015,2025): #2015年〜2024年\n",
    "  f=open(\"output/\"+str(year)+'.txt','r')\n",
    "  prompt_gpt+='['+str(year)+'年]\\n'\n",
    "  for s in f:\n",
    "    prompt_gpt+=s\n",
    "print(prompt_gpt)\n",
    "# 以下は、開発費のみ分析するようにプロンプトで指示を出している。上の各年の分析結果によｔ\n",
    "response = client.chat.completions.create(\n",
    "    model=\"gpt-4o\",\n",
    "    messages=[\n",
    "        {\"role\": \"system\", \"content\": \"あなたは金融のエキスパートです。\"},\n",
    "        {\"role\": \"user\", \"content\": '''\n",
    "以下は、過去数年間のセグメント事業、開発費、売上高、セグメント利益、負債をまとめたものである。これらのデータのうち売上高の傾向についてわかることをまとめよ。なお、金額の単位が億円、円、１００万円など混在しているので注意すること。\n",
    "'''+prompt_gpt},\n",
    "    ],\n",
    ")\n",
    "\n",
    "g=open('gpt_analysis_result.txt','w')\n",
    "g.write(response.choices[0].message.content)\n",
    "g.close()"
   ]
  },
  {
   "cell_type": "code",
   "execution_count": 10,
   "metadata": {
    "executionInfo": {
     "elapsed": 3971,
     "status": "ok",
     "timestamp": 1751240159605,
     "user": {
      "displayName": "YUTO TAKAGI",
      "userId": "01469428617600598110"
     },
     "user_tz": -540
    },
    "id": "_UfluqKflesH"
   },
   "outputs": [],
   "source": [
    "response = client.chat.completions.create(\n",
    "    model=\"gpt-4o\",\n",
    "    messages=[\n",
    "        {\"role\": \"system\", \"content\": \"あなたは金融のエキスパートです。\"},\n",
    "        {\"role\": \"user\", \"content\": '''\n",
    "以下は、過去数年間のセグメント事業、開発費、売上高、セグメント利益、負債をまとめたものである。これらのデータから、開発費だけをリストに抽出せよ。\n",
    "'''+prompt_gpt},\n",
    "    ],\n",
    ")"
   ]
  },
  {
   "cell_type": "code",
   "execution_count": 11,
   "metadata": {
    "colab": {
     "base_uri": "https://localhost:8080/",
     "height": 121
    },
    "executionInfo": {
     "elapsed": 9,
     "status": "ok",
     "timestamp": 1751240161431,
     "user": {
      "displayName": "YUTO TAKAGI",
      "userId": "01469428617600598110"
     },
     "user_tz": -540
    },
    "id": "beVfZtnslrU7",
    "outputId": "31197a4d-a9c1-4ba3-daf6-ac9d5bc04506"
   },
   "outputs": [
    {
     "data": {
      "application/vnd.google.colaboratory.intrinsic+json": {
       "type": "string"
      },
      "text/plain": [
       "'以下は、過去数年間の開発費のリストです。\\n\\n[2015年]\\n- 自動車: 98,470\\n- 航空宇宙: 4,172\\n- 産業機器: 859\\n- その他: 7,154\\n\\n[2016年]\\n- 自動車: 128,254\\n- 航空宇宙: 6,166\\n- 産業機器: 591\\n- その他: 648\\n\\n[2017年]\\n- 自動車: 143,227\\n- 航空宇宙: 13,891\\n- その他: 1,379\\n\\n[2018年]\\n- 自動車: 133,388\\n- 航空宇宙: 7,640\\n- その他: 325\\n\\n[2019年]\\n- 自動車: 106,366\\n- 航空宇宙: 5,525\\n- その他: 1,588\\n\\n[2020年]\\n- 自動車: 119,307\\n- 航空宇宙: 4,293\\n- その他: 2,402\\n\\n[2021年]\\n- 自動車: 80,231\\n- 航空宇宙: 5,438\\n- その他: 524\\n\\n[2022年]\\n- 自動車: -\\n- 航空宇宙: -\\n- その他: -\\n\\n[2023年]\\n- 自動車: 118,539\\n- 航空宇宙: 3,636\\n- その他: 665\\n\\n[2024年]\\n- 自動車: 159,452\\n- 航空宇宙: 6,087\\n- その他: 1,956'"
      ]
     },
     "execution_count": 11,
     "metadata": {},
     "output_type": "execute_result"
    }
   ],
   "source": [
    "response.choices[0].message.content"
   ]
  },
  {
   "cell_type": "markdown",
   "metadata": {
    "id": "fySg7g7fcqze"
   },
   "source": [
    "2023年以前のデータを使って事業ごとに回帰分析する。回帰モデルを作成し、2024年の売上高を予測する。\n",
    "\n",
    "2024年の実際の売上高と比較することで、モデルを評価する。\n",
    "\n",
    "もし、2024年だけ売上高や開発費やセグメント名の抽出が失敗しているようであれば、2022年度までのデータを使って2023年度を予測、それを2023年度のデータと比較して評価すること。\n",
    "\n",
    "セグメントが多すぎる場合には、自分で適当に３個程度選ぶこと。\n",
    "\n",
    "※ 分析ができることを感じてもらうことがこの実験の意義なので、全部詳細にやる必要はない。\n",
    "\n",
    "以下は、日立製作所の高機能材料の開発費を分析した例。この例では、2018年までのデータを使って2019年の開発費を予測する。"
   ]
  },
  {
   "cell_type": "code",
   "execution_count": 20,
   "metadata": {
    "colab": {
     "base_uri": "https://localhost:8080/",
     "height": 507
    },
    "executionInfo": {
     "elapsed": 170,
     "status": "ok",
     "timestamp": 1751250570208,
     "user": {
      "displayName": "YUTO TAKAGI",
      "userId": "01469428617600598110"
     },
     "user_tz": -540
    },
    "id": "-4iQQxLOQt5d",
    "outputId": "9d9d1888-98af-476c-ceab-c23ef6ecba76"
   },
   "outputs": [
    {
     "name": "stdout",
     "output_type": "stream",
     "text": [
      "2024年の予測値: 119346.96764705842\n",
      "2024年の実際の値:  166435\n"
     ]
    },
    {
     "data": {
      "image/png": "[encoded data removed]",
      "text/plain": [
       "<Figure size 640x480 with 1 Axes>"
      ]
     },
     "metadata": {},
     "output_type": "display_data"
    }
   ],
   "source": [
    "import numpy as np\n",
    "import matplotlib.pyplot as plt\n",
    "from sklearn.linear_model import LinearRegression\n",
    "\n",
    "# 入力データ\n",
    "x = np.array([[2015], [2016], [2017], [2018], [2019], [2020], [2021], [2022], [2023],[2024]])\n",
    "y = np.array([98470, 128254, np.nan, 133388, 106366, 119307, 80231, 79441, 118539, 159452])\n",
    "\n",
    "# 欠損値を除外\n",
    "mask = ~np.isnan(y)\n",
    "x_clean = x[mask]\n",
    "y_clean = y[mask]\n",
    "\n",
    "# 線形回帰モデルを定義し、データにフィットさせる\n",
    "model = LinearRegression()\n",
    "model.fit(x_clean, y_clean)\n",
    "\n",
    "# 2024年の予測を行う\n",
    "prediction = model.predict([[2025]])\n",
    "print(\"2024年の予測値:\", prediction[0])\n",
    "print(\"2024年の実際の値: \", 166435)  # ここは、自分で記入すること。\n",
    "\n",
    "# データと回帰直線のプロット\n",
    "plt.scatter(x_clean, y_clean, color='blue', label='Data')  # 元のデータをプロット\n",
    "plt.plot(x, model.predict(x), color='red', label='Linear Regression')  # 回帰直線をプロット\n",
    "plt.scatter(2025, prediction, color='green', label='Prediction')  # 予測値をプロット\n",
    "plt.xlabel('Year')\n",
    "plt.ylabel('Value')\n",
    "plt.title('Linear Regression Prediction')\n",
    "plt.legend()\n",
    "plt.grid(True)\n",
    "plt.show()"
   ]
  },
  {
   "cell_type": "code",
   "execution_count": null,
   "metadata": {
    "id": "RycSJTjqYznA"
   },
   "outputs": [],
   "source": []
  }
 ],
 "metadata": {
  "colab": {
   "gpuType": "A100",
   "machine_shape": "hm",
   "provenance": []
  },
  "kernelspec": {
   "display_name": "Python 3",
   "name": "python3"
  },
  "language_info": {
   "name": "python"
  }
 },
 "nbformat": 4,
 "nbformat_minor": 0
}
